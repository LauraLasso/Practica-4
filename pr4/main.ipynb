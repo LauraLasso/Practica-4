{
 "cells": [
  {
   "cell_type": "markdown",
   "metadata": {},
   "source": [
    "# Práctica 4: Audio"
   ]
  },
  {
   "cell_type": "code",
   "execution_count": 49,
   "metadata": {},
   "outputs": [],
   "source": [
    "import tkinter as tk\n",
    "from tkinter import ttk, messagebox\n",
    "\n",
    "import os\n",
    "import sounddevice as sd"
   ]
  },
  {
   "cell_type": "code",
   "execution_count": 50,
   "metadata": {},
   "outputs": [],
   "source": [
    "from processing.DataLoader import *\n",
    "from processing.FFTCalculator import *\n",
    "from processing.Visualizer import *\n",
    "\n",
    "from processing.Signal import Signal"
   ]
  },
  {
   "cell_type": "code",
   "execution_count": 51,
   "metadata": {},
   "outputs": [],
   "source": [
    "from processing.Filters import *"
   ]
  },
  {
   "cell_type": "markdown",
   "metadata": {},
   "source": [
    "## Interfaz de usuario"
   ]
  },
  {
   "cell_type": "code",
   "execution_count": 52,
   "metadata": {},
   "outputs": [],
   "source": [
    "tmin, tmax = 0, 1\n",
    "peaks = np.array([])\n",
    "amplitudes = np.array([])\n",
    "filename = None"
   ]
  },
  {
   "cell_type": "code",
   "execution_count": 53,
   "metadata": {},
   "outputs": [],
   "source": [
    "factory = DataLoaderFactory()\n",
    "pitcher = PitchCalculator()"
   ]
  },
  {
   "cell_type": "markdown",
   "metadata": {},
   "source": [
    "### Lógica de la interfaz"
   ]
  },
  {
   "cell_type": "code",
   "execution_count": 54,
   "metadata": {},
   "outputs": [],
   "source": [
    "def get_mono(musicLoader, note):\n",
    "    try:\n",
    "        note = musicLoader.to_single_channel(note)\n",
    "    except:\n",
    "        pass\n",
    "    return note\n",
    "\n",
    "def on_select(event=None):\n",
    "    global listbox, instrumento_seleccionado, tmin, tmax, peaks, amplitudes, signal, filename\n",
    "    musicLoader = factory.create(\"music\")\n",
    "    visualizer = Visualizer(instrumento_seleccionado.get().lower())\n",
    "\n",
    "    value = listbox.get(listbox.curselection())\n",
    "\n",
    "    filename = f\"notes/{instrumento_seleccionado.get().lower()}/{value}\"\n",
    "    sample_rate, note = musicLoader.load(filename)\n",
    "    note = get_mono(musicLoader, note)\n",
    "\n",
    "    signal = Signal(sample_rate, note, instrumento_seleccionado.get().lower(), filename)\n",
    "\n",
    "    signal = visualizer.show_audio_signal_cv2(signal)\n",
    "    signal = visualizer.show_fft_cv2(signal)\n",
    "\n",
    "def modify_listbox():\n",
    "    global listbox, frame_elementos, instrumento_seleccionado, signal\n",
    "    listbox.delete(0, tk.END)\n",
    "\n",
    "    directorio_imagenes = \"./notes/\" + instrumento_seleccionado.get().lower() + \"/\"\n",
    "    lista_imagenes = [os.path.join(directorio_imagenes, f) for f in os.listdir(directorio_imagenes) if f.endswith(('.wav'))]\n",
    "    for imagen in lista_imagenes:\n",
    "        name = os.path.basename(imagen)\n",
    "        listbox.insert(tk.END, name)\n"
   ]
  },
  {
   "cell_type": "code",
   "execution_count": 55,
   "metadata": {},
   "outputs": [],
   "source": [
    "def show_transform():\n",
    "    global listbox, instrumento_seleccionado, signal\n",
    "    visualizer = Visualizer(instrumento_seleccionado.get().lower())\n",
    "    signal = visualizer.show_fft_cv2(signal)"
   ]
  },
  {
   "cell_type": "code",
   "execution_count": 56,
   "metadata": {},
   "outputs": [],
   "source": [
    "def generate_sine_wave(frequency, duration, sample_rate, amplitude):\n",
    "    t = np.linspace(0, duration, int(sample_rate * duration), endpoint=False)\n",
    "    signal = 2*amplitude*np.sin(2 * np.pi * frequency * t)\n",
    "    return signal\n",
    "\n",
    "\n",
    "def sintetize():\n",
    "    global listbox, instrumento_seleccionado, signal\n",
    "    visualizer = Visualizer(instrumento_seleccionado.get().lower())\n",
    "    calculator = FourierCalculator()\n",
    "\n",
    "    visualizer.show_audio_signal_cv2(signal)\n",
    "\n",
    "    _, yf, phase = calculator.get_fft(signal.note, signal.sample_rate)\n",
    "    note = calculator.get_inverse_fft(yf, phase)\n",
    "    reconstructed_signal = Signal(signal.sample_rate, note, signal.instrument, signal.filename)\n",
    "\n",
    "    visualizer.show_audio_signal_cv2(reconstructed_signal)\n",
    "\n",
    "    duration = 2\n",
    "    time = np.linspace(0, 2, int(signal.sample_rate * duration))\n",
    "    note = np.zeros(len(time))\n",
    "\n",
    "    peaks, amplitudes, _ = signal.pitches(5, 50)\n",
    "\n",
    "    max_amplitude = np.max(amplitudes)\n",
    "    for peak, amplitude in zip(peaks, amplitudes):\n",
    "        note += generate_sine_wave(peak, duration, signal.sample_rate, amplitude/max_amplitude)\n",
    "\n",
    "    visualizer.show_audio_signal_cv2(Signal(signal.sample_rate, note, signal.instrument, None))"
   ]
  },
  {
   "cell_type": "code",
   "execution_count": 57,
   "metadata": {},
   "outputs": [],
   "source": [
    "def save_audio():\n",
    "    global listbox, name_text, instrumento_seleccionado, signal\n",
    "    visualizer = Visualizer(instrumento_seleccionado.get().lower())\n",
    "    signal = visualizer.show_audio_signal_cv2(signal)\n",
    "\n",
    "    file = name_text.get(0.0, tk.END).strip()\n",
    "    filename = f\"notes/{instrumento_seleccionado.get().lower()}/{file}.wav\"\n",
    "\n",
    "    musicLoader = factory.create(\"music\")\n",
    "    musicLoader.save(filename, signal.get_signal(), signal.sample_rate)\n",
    "    modify_listbox()"
   ]
  },
  {
   "cell_type": "code",
   "execution_count": 58,
   "metadata": {},
   "outputs": [],
   "source": [
    "def record():\n",
    "    global listbox, instrumento_seleccionado, name_text, duration\n",
    "    sample_rate = 44100\n",
    "    dur = int(duration.get(0.0, tk.END).strip())\n",
    "\n",
    "    note = sd.rec(int(sample_rate * dur), samplerate=sample_rate, channels=1, dtype='float64')\n",
    "    sd.wait()\n",
    "\n",
    "    filename = f\"notes/{instrumento_seleccionado.get().lower()}/{name_text.get(0.0, tk.END).strip()}.wav\"\n",
    "    musicLoader = factory.create(\"music\")\n",
    "    musicLoader.save(filename, note, sample_rate)\n",
    "    modify_listbox()"
   ]
  },
  {
   "cell_type": "code",
   "execution_count": 59,
   "metadata": {},
   "outputs": [],
   "source": [
    "def rename():\n",
    "    global listbox, instrumento_seleccionado, name_text\n",
    "    new_filename = f\"notes/{instrumento_seleccionado.get().lower()}/{name_text.get(0.0, tk.END).strip()}.wav\"\n",
    "    old_filename = listbox.get(listbox.curselection())\n",
    "    os.rename(f\"notes/{instrumento_seleccionado.get().lower()}/{old_filename}\", new_filename)\n",
    "    print(f\"Renamed {old_filename} to {new_filename}\")\n",
    "    modify_listbox()"
   ]
  },
  {
   "cell_type": "code",
   "execution_count": 60,
   "metadata": {},
   "outputs": [],
   "source": [
    "def delete():\n",
    "    global listbox, instrumento_seleccionado\n",
    "    filename = listbox.get(listbox.curselection())\n",
    "    os.remove(f\"notes/{instrumento_seleccionado.get().lower()}/{filename}\")\n",
    "    modify_listbox()"
   ]
  },
  {
   "cell_type": "code",
   "execution_count": 61,
   "metadata": {},
   "outputs": [],
   "source": [
    "def cargar_archivo():\n",
    "    global signal, listbox, instrumento_seleccionado, filename\n",
    "    musicLoader = factory.create(\"music\")\n",
    "    visualizer = Visualizer(instrumento_seleccionado.get().lower())\n",
    "\n",
    "    filename = filedialog.askopenfilename(title=\"Selecciona un archivo de audio\", filetypes=[(\"Archivos WAV\", \"*.wav\")])\n",
    "    sample_rate, note = musicLoader.load(filename)\n",
    "    note = get_mono(musicLoader, note)\n",
    "\n",
    "    signal = Signal(sample_rate, note, instrumento_seleccionado.get().lower(), filename)\n",
    "\n",
    "    signal = visualizer.show_audio_signal_cv2(signal)\n",
    "    signal = visualizer.show_fft_cv2(signal)\n"
   ]
  },
  {
   "cell_type": "code",
   "execution_count": 62,
   "metadata": {},
   "outputs": [],
   "source": [
    "def generar_audio():\n",
    "    global filename\n",
    "    fs = 44100  # Frecuencia de muestreo\n",
    "    duracion = 2.0  # Duración de la señal en segundos\n",
    "    frecuencias = [5, 50, 120, 300]  # Frecuencias principales de la señal\n",
    "\n",
    "    # Generar señal sinusoidal con las frecuencias definidas\n",
    "    t = np.linspace(0, duracion, int(fs * duracion), endpoint=False)\n",
    "    senal = sum(np.sin(2 * np.pi * f * t) for f in frecuencias)\n",
    "\n",
    "    num_frecuencias_ruido = 15  # Número de frecuencias adicionales para el ruido\n",
    "    for _ in range(num_frecuencias_ruido):\n",
    "        frecuencia_ruido = np.random.uniform(10, fs / 2)\n",
    "        fase_ruido = np.random.uniform(0, 2 * np.pi)\n",
    "        senal += 0.2 * np.sin(2 * np.pi * frecuencia_ruido * t + fase_ruido)\n",
    "\n",
    "    # Normalizar la señal para evitar saturación\n",
    "    senal /= num_frecuencias_ruido\n",
    "\n",
    "    # Agregar ruido blanco adicional\n",
    "    ruido = np.random.normal(0, 0.5, t.shape)\n",
    "    senal_con_ruido = senal + ruido\n",
    "\n",
    "    FiltroDeSenales(t, senal_con_ruido, fs)"
   ]
  },
  {
   "cell_type": "code",
   "execution_count": 63,
   "metadata": {},
   "outputs": [],
   "source": [
    "def apply_filters():\n",
    "    global listbox, instrumento_seleccionado, filename\n",
    "\n",
    "    if filename:\n",
    "        fs, senal_original = read(filename)\n",
    "        t = np.linspace(0, len(senal_original) / fs, num=len(senal_original))\n",
    "        \n",
    "        if len(senal_original.shape) > 1:\n",
    "            senal_original = senal_original[:, 0]\n",
    "        \n",
    "        senal_original = senal_original / np.max(np.abs(senal_original))\n",
    "        FiltroDeSenales(t, senal_original, fs)\n",
    "\n",
    "    else:\n",
    "        messagebox.showinfo(\"Filtro fallido\", f\"Seleccione un archivo audio o genere uno con ruido\")"
   ]
  },
  {
   "cell_type": "markdown",
   "metadata": {},
   "source": [
    "### Interfaz de usuario"
   ]
  },
  {
   "cell_type": "code",
   "execution_count": 64,
   "metadata": {},
   "outputs": [],
   "source": [
    "ventana = tk.Tk()\n",
    "ventana.title(\"Editor de imágenes\")\n",
    "ventana.geometry(\"500x660\")\n",
    "ventana.resizable(False, False)\n",
    "ventana.grid_columnconfigure(0, weight=1)\n",
    "\n",
    "frame_lista = tk.Frame(ventana)\n",
    "frame_lista.grid(row=0, column=0, sticky=\"nsew\", padx=10, pady=(10, 5))\n",
    "frame_lista.grid_propagate(False) \n",
    "\n",
    "canvas = tk.Canvas(frame_lista, height=100)\n",
    "canvas.pack(side=tk.LEFT, fill=tk.BOTH, expand=True)\n",
    "\n",
    "scrollbar = ttk.Scrollbar(frame_lista, orient=\"vertical\", command=canvas.yview)\n",
    "scrollbar.pack(side=tk.RIGHT, fill=tk.Y)\n",
    "\n",
    "frame_elementos = tk.Frame(canvas)\n",
    "canvas.create_window((0, 0), window=frame_elementos, anchor=\"nw\")\n",
    "\n",
    "def on_frame_configure(event):\n",
    "    canvas.configure(scrollregion=canvas.bbox(\"all\"))\n",
    "\n",
    "frame_elementos.bind(\"<Configure>\", on_frame_configure)\n",
    "\n",
    "directorio_imagenes = \"./notes/piano\"\n",
    "lista_imagenes = [os.path.join(directorio_imagenes, f) for f in os.listdir(directorio_imagenes) if f.endswith(('.wav'))]\n",
    "\n",
    "listbox = tk.Listbox(frame_elementos, height=10, width=600)\n",
    "for imagen in lista_imagenes:\n",
    "    listbox.insert(tk.END, os.path.basename(imagen))\n",
    "listbox.pack(side=tk.LEFT, fill=tk.BOTH, expand=True)\n",
    "\n",
    "listbox.bind(\"<<ListboxSelect>>\", on_select)\n",
    "\n",
    "canvas.configure(yscrollcommand=scrollbar.set)\n",
    "\n",
    "frame_formulario = tk.Frame(ventana)\n",
    "frame_formulario.grid(row=1, column=0, sticky=\"n\", padx=10, pady=(10, 0))\n",
    "\n",
    "tk.Button(frame_formulario, text=\"Cargar un Archivo\", command=cargar_archivo).grid(row=0, column=0, columnspan=2, pady=5, sticky=\"wen\")\n",
    "\n",
    "tk.Label(frame_formulario, text=\"Seleccione un instrumento\", font=(\"Arial\", 12)).grid(row=1, column=0, columnspan=1, pady=10, sticky=\"w\")\n",
    "\n",
    "instrumentos = [\"Guitarra\", \"Piano\", \"Violin\", \"Flauta\", \"Trompeta\"]\n",
    "instrumento_seleccionado = tk.StringVar(value=\"Piano\")\n",
    "\n",
    "for idx, instrumento in enumerate(instrumentos):\n",
    "    tk.Radiobutton(\n",
    "        frame_formulario, \n",
    "        text=instrumento, \n",
    "        variable=instrumento_seleccionado, \n",
    "        value=instrumento,\n",
    "        command=modify_listbox\n",
    "    ).grid(row=2+idx, column=1, columnspan=1, sticky=\"nw\")\n",
    "\n",
    "tk.Label(frame_formulario, text=\"Acciones\", font=(\"Arial\", 12)).grid(row=19, column=0, columnspan=1, pady=10, sticky=\"w\")\n",
    "\n",
    "tk.Button(frame_formulario, text=\"Reproducir\", command=on_select).grid(row=20, column=0, columnspan=1, pady=5, padx=30, sticky=\"wen\")\n",
    "tk.Button(frame_formulario, text=\"Sintetizar\", command=sintetize).grid(row=20, column=1, columnspan=1, pady=5, sticky=\"wne\")\n",
    "tk.Button(frame_formulario, text=\"Generar audio con ruido\", command=generar_audio).grid(row=21, column=1, columnspan=1, pady=5, sticky=\"wne\")\n",
    "\n",
    "tk.Button(frame_formulario, text=\"Aplicar Filtros\", command=apply_filters).grid(row=21, column=0, columnspan=1, pady=5, padx=30, sticky=\"wen\")\n",
    "\n",
    "tk.Label(frame_formulario, text=\"Nombre\", font=(\"Arial\", 10)).grid(row=22, column=0, columnspan=1, pady=10, sticky=\"w\")\n",
    "name_text = tk.Text(frame_formulario, height=1, width=30)\n",
    "name_text.grid(row=23, column=0, columnspan=1, pady=5, padx=30, sticky=\"wen\")\n",
    "tk.Button(frame_formulario, text=\"Guardar\", command=save_audio).grid(row=23, column=1, columnspan=1, pady=5, sticky=\"wen\")\n",
    "tk.Button(frame_formulario, text=\"Renombrar\", command=rename).grid(row=24, column=1, columnspan=1, pady=5, sticky=\"wen\")\n",
    "tk.Button(frame_formulario, text=\"Eliminar\", command=delete).grid(row=25, column=1, columnspan=1, pady=5, sticky=\"wen\")\n",
    "\n",
    "tk.Label(frame_formulario, text=\"Duración\", font=(\"Arial\", 10)).grid(row=25, column=0, columnspan=1, pady=10, sticky=\"w\")\n",
    "duration = tk.Text(frame_formulario, height=1, width=30)\n",
    "duration.grid(row=26, column=0, columnspan=1, pady=5, padx=30, sticky=\"wen\")\n",
    "tk.Button(frame_formulario, text=\"Grabar\", command=record).grid(row=26, column=1, columnspan=1, pady=5, sticky=\"wen\")\n",
    "\n",
    "frame_formulario.grid_columnconfigure(0, weight=1)\n",
    "frame_formulario.grid_columnconfigure(1, weight=1)\n",
    "\n",
    "ventana.mainloop()\n"
   ]
  }
 ],
 "metadata": {
  "kernelspec": {
   "display_name": "aa2",
   "language": "python",
   "name": "python3"
  },
  "language_info": {
   "codemirror_mode": {
    "name": "ipython",
    "version": 3
   },
   "file_extension": ".py",
   "mimetype": "text/x-python",
   "name": "python",
   "nbconvert_exporter": "python",
   "pygments_lexer": "ipython3",
   "version": "3.9.18"
  }
 },
 "nbformat": 4,
 "nbformat_minor": 2
}
